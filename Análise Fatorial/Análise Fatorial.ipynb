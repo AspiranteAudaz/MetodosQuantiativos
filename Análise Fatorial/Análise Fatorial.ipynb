{
 "cells": [
  {
   "cell_type": "markdown",
   "metadata": {},
   "source": [
    "Referência: https://smolski.github.io/livroavancado/analisf.html"
   ]
  },
  {
   "cell_type": "markdown",
   "metadata": {},
   "source": [
    "Carregar dependências"
   ]
  },
  {
   "cell_type": "code",
   "execution_count": 1,
   "metadata": {},
   "outputs": [
    {
     "name": "stderr",
     "output_type": "stream",
     "text": [
      "corrplot 0.84 loaded\n"
     ]
    }
   ],
   "source": [
    "library(scales)\n",
    "library(data.table)\n",
    "library(corrplot)"
   ]
  },
  {
   "cell_type": "markdown",
   "metadata": {},
   "source": [
    "Baixar base"
   ]
  },
  {
   "cell_type": "code",
   "execution_count": 2,
   "metadata": {},
   "outputs": [],
   "source": [
    "url <- \"https://raw.githubusercontent.com/Lucas-MDC/MetodosQuantitativos/master/base_traduzida.csv\"\n",
    "destfile <- \"base.csv\"\n",
    "curl::curl_download(url, destfile)\n",
    "base <- read.csv(destfile)"
   ]
  },
  {
   "cell_type": "markdown",
   "metadata": {},
   "source": [
    "Renomar colunas (tirar caracteres especiais)"
   ]
  },
  {
   "cell_type": "code",
   "execution_count": 3,
   "metadata": {},
   "outputs": [],
   "source": [
    "names(base)[names(base) == \"PreÃ.o_do_Produto\"] <- \"Preco_do_Produto\"\n",
    "names(base)[names(base) == \"MÃ.dia_da_Nota_do_Produto\"] <- \"Media_da_Nota_do_Produto\"\n",
    "names(base)[names(base) == \"Quantidade_de_AvaliaÃ.Ãµes\"] <- \"Quantidade_de_Avaliacoes\"\n",
    "names(base)[names(base) == \"PreÃ.o_de_Varejo\"] <- \"Preco_de_Varejo\"\n",
    "names(base)[names(base) == \"MÃ.dia_de_Nota_do_Vendedor\"] <- \"Media_de_Nota_do_Vendedor\"\n",
    "names(base)[names(base) == \"Quantidade_de_AvaliaÃ.Ãµes_do_Vendedor\"] <- \"Quantidade_de_Avaliacoes_do_Vendedor\"\n",
    "\n",
    "attach(base)"
   ]
  },
  {
   "cell_type": "markdown",
   "metadata": {},
   "source": [
    "Fazer a normalização das variáveis para uma escala"
   ]
  },
  {
   "cell_type": "markdown",
   "metadata": {},
   "source": [
    "v1 = Preço do produto<br/>\n",
    "v2 = Unidades vendidas<br/>\n",
    "v3 = Média da nota do produto<br/>\n",
    "v4 = Quantidade de avaliações<br/>\n",
    "v5 = Preço do varejo<br/>\n",
    "v6 = Média de nota do vendedor<br/>\n",
    "v7 = Quantidade de avaliações do vendedor"
   ]
  },
  {
   "cell_type": "code",
   "execution_count": 4,
   "metadata": {},
   "outputs": [],
   "source": [
    "# Base com escala\n",
    "base_e <- data.table(v1 = rescale(base$Preco_do_Produto),\n",
    "                     v2 = rescale(base$Unidades_Vendidas),\n",
    "                     v3 = rescale(base$Media_da_Nota_do_Produto),\n",
    "                     v4 = rescale(base$Quantidade_de_Avaliacoes),\n",
    "                     v5 = rescale(base$Preco_de_Varejo),\n",
    "                     v6 = rescale(base$Media_de_Nota_do_Vendedor),\n",
    "                     v7 = rescale(base$Quantidade_de_Avaliacoes_do_Vendedor))"
   ]
  },
  {
   "cell_type": "markdown",
   "metadata": {},
   "source": [
    "### Construção da Matriz de Correlação"
   ]
  },
  {
   "cell_type": "code",
   "execution_count": 5,
   "metadata": {},
   "outputs": [
    {
     "name": "stdout",
     "output_type": "stream",
     "text": [
      "        v1     v2    v3      v4    v5    v6     v7\n",
      "v1  1.0000 -0.025 0.053 -0.0019 0.305 0.047 -0.024\n",
      "v2 -0.0248  1.000 0.039  0.8995 0.013 0.123  0.273\n",
      "v3  0.0535  0.039 1.000  0.0541 0.024 0.237  0.034\n",
      "v4 -0.0019  0.899 0.054  1.0000 0.054 0.141  0.258\n",
      "v5  0.3047  0.013 0.024  0.0539 1.000 0.054  0.029\n",
      "v6  0.0471  0.123 0.237  0.1413 0.054 1.000  0.136\n",
      "v7 -0.0238  0.273 0.034  0.2582 0.029 0.136  1.000\n"
     ]
    }
   ],
   "source": [
    "matriz_correlacao <- cor(base_e)\n",
    "print(matriz_correlacao, digits = 2)"
   ]
  },
  {
   "cell_type": "code",
   "execution_count": 6,
   "metadata": {},
   "outputs": [
    {
     "data": {
      "image/png": "[encoded data removed]",
      "text/plain": [
       "Plot with title \"\""
      ]
     },
     "metadata": {},
     "output_type": "display_data"
    }
   ],
   "source": [
    "corrplot(matriz_correlacao, method=\"circle\")"
   ]
  },
  {
   "cell_type": "markdown",
   "metadata": {},
   "source": [
    "Para testar a conveniência do modelo fatorial pode-se aplicar o teste de esfericidade de Bartlett para testar a hipótese nula, de que as variáveis não sejam correlacionadas na população. Um valor elevado da estatística de teste favorece a rejeição da hipótese nula.\n",
    "\n",
    "Também, a medida de adequacidade da amostra de Kaiser-Meyer-Olkin (KMO) compara as magnitudes dos coeficientes de correlação observados com as magnitudes dos coeficientes de correlação parcial. Pequenos valores de KMO indicam que as correlações entre os pares de variáveis não podem ser explicadas por outras variáveis, indicando que a análise fatorial não é adequada.\n",
    "\n",
    "Hipóteses:\n",
    "\n",
    "H0: A matriz de correlação da população é uma matriz identidade, ou seja as variáveis não são correlacionadas na população.\n",
    "H1: A matriz de correlação da população não é uma matriz identidade, ou seja as variáveis são correlacionadas na população."
   ]
  },
  {
   "cell_type": "code",
   "execution_count": 7,
   "metadata": {},
   "outputs": [
    {
     "name": "stderr",
     "output_type": "stream",
     "text": [
      "\n",
      "Attaching package: 'psych'\n",
      "\n",
      "The following objects are masked from 'package:scales':\n",
      "\n",
      "    alpha, rescale\n",
      "\n",
      "R was not square, finding R from data\n"
     ]
    },
    {
     "data": {
      "text/html": [
       "<dl>\n",
       "\t<dt>$chisq</dt>\n",
       "\t\t<dd>3042.44113475811</dd>\n",
       "\t<dt>$p.value</dt>\n",
       "\t\t<dd>0</dd>\n",
       "\t<dt>$df</dt>\n",
       "\t\t<dd>21</dd>\n",
       "</dl>\n"
      ],
      "text/latex": [
       "\\begin{description}\n",
       "\\item[\\$chisq] 3042.44113475811\n",
       "\\item[\\$p.value] 0\n",
       "\\item[\\$df] 21\n",
       "\\end{description}\n"
      ],
      "text/markdown": [
       "$chisq\n",
       ":   3042.44113475811\n",
       "$p.value\n",
       ":   0\n",
       "$df\n",
       ":   21\n",
       "\n",
       "\n"
      ],
      "text/plain": [
       "$chisq\n",
       "[1] 3042.441\n",
       "\n",
       "$p.value\n",
       "[1] 0\n",
       "\n",
       "$df\n",
       "[1] 21\n"
      ]
     },
     "metadata": {},
     "output_type": "display_data"
    }
   ],
   "source": [
    "library(psych)\n",
    "cortest.bartlett(base_e)"
   ]
  },
  {
   "cell_type": "markdown",
   "metadata": {},
   "source": [
    "**Interpretação da KMO**"
   ]
  },
  {
   "cell_type": "code",
   "execution_count": 8,
   "metadata": {},
   "outputs": [
    {
     "data": {
      "text/plain": [
       "Kaiser-Meyer-Olkin factor adequacy\n",
       "Call: KMO(r = base_e)\n",
       "Overall MSA =  0.54\n",
       "MSA for each item = \n",
       "  v1   v2   v3   v4   v5   v6   v7 \n",
       "0.51 0.53 0.54 0.53 0.49 0.63 0.88 "
      ]
     },
     "metadata": {},
     "output_type": "display_data"
    }
   ],
   "source": [
    "KMO(base_e)"
   ]
  },
  {
   "cell_type": "markdown",
   "metadata": {},
   "source": [
    "A estatística KMO maior que 0,5 também concorda quanto ao fato de que a análise fatorial pode ser considerada uma técnica apropriada para analisar a matriz de correlação.\n",
    "\n",
    "Apesar disso, o valor de KMA médio é bem próximo, de 0,5, indicativo de que a análise poderá ser bem regular"
   ]
  },
  {
   "cell_type": "markdown",
   "metadata": {},
   "source": [
    "### Análise Fatorial"
   ]
  },
  {
   "cell_type": "code",
   "execution_count": 9,
   "metadata": {},
   "outputs": [
    {
     "data": {
      "text/plain": [
       "Call:\n",
       "princomp(x = base_e, cor = TRUE)\n",
       "\n",
       "Standard deviations:\n",
       "   Comp.1    Comp.2    Comp.3    Comp.4    Comp.5    Comp.6    Comp.7 \n",
       "1.4488740 1.1606517 1.0736578 0.9348150 0.8599058 0.8297153 0.3149067 \n",
       "\n",
       " 7  variables and  1573 observations."
      ]
     },
     "metadata": {},
     "output_type": "display_data"
    }
   ],
   "source": [
    "fit<-princomp(base_e,cor=TRUE)\n",
    "fit"
   ]
  },
  {
   "cell_type": "code",
   "execution_count": 10,
   "metadata": {},
   "outputs": [
    {
     "data": {
      "text/plain": [
       "Importance of components:\n",
       "                          Comp.1    Comp.2    Comp.3    Comp.4    Comp.5\n",
       "Standard deviation     1.4488740 1.1606517 1.0736578 0.9348150 0.8599058\n",
       "Proportion of Variance 0.2998908 0.1924446 0.1646773 0.1248399 0.1056340\n",
       "Cumulative Proportion  0.2998908 0.4923355 0.6570128 0.7818526 0.8874866\n",
       "                           Comp.6     Comp.7\n",
       "Standard deviation     0.82971530 0.31490674\n",
       "Proportion of Variance 0.09834678 0.01416661\n",
       "Cumulative Proportion  0.98583339 1.00000000"
      ]
     },
     "metadata": {},
     "output_type": "display_data"
    }
   ],
   "source": [
    "summary(fit)"
   ]
  },
  {
   "cell_type": "markdown",
   "metadata": {},
   "source": [
    "A função summary(fit) mostra a aplicação da análise de componentes principais. O fator 1 responde por 29,98% da variância total. Da mesma forma, o segundo fator responde por 19,24% da variância total, sendo que os dois primeiros fatores respondem por 49,23% da variância total. Várias considerações devem integrar a análise do número de fatores que devem ser usados na análise."
   ]
  },
  {
   "cell_type": "markdown",
   "metadata": {},
   "source": [
    "Aqui vou usar o screeplot pra determinar a quantidade de fatores"
   ]
  },
  {
   "cell_type": "code",
   "execution_count": 11,
   "metadata": {},
   "outputs": [
    {
     "data": {
      "image/png": "[encoded data removed]",
      "text/plain": [
       "Plot with title \"fit\""
      ]
     },
     "metadata": {},
     "output_type": "display_data"
    }
   ],
   "source": [
    "screeplot(fit,type=\"lines\")"
   ]
  },
  {
   "cell_type": "markdown",
   "metadata": {},
   "source": [
    "Como não é muito significativo, vou definir uma % total explicada acima de 60%, que serão **3** fatores."
   ]
  },
  {
   "cell_type": "markdown",
   "metadata": {},
   "source": [
    "### Análise do ACP"
   ]
  },
  {
   "cell_type": "code",
   "execution_count": 12,
   "metadata": {},
   "outputs": [
    {
     "data": {
      "text/plain": [
       "Principal Components Analysis\n",
       "Call: principal(r = base_e, nfactors = 3, rotate = \"none\", n.obs = 1000, \n",
       "    scores = TRUE)\n",
       "Standardized loadings (pattern matrix) based upon correlation matrix\n",
       "    PC1   PC2   PC3   h2    u2 com\n",
       "v1 0.01  0.74 -0.33 0.65 0.347 1.4\n",
       "v2 0.92 -0.16 -0.17 0.91 0.094 1.1\n",
       "v3 0.17  0.37  0.68 0.63 0.369 1.7\n",
       "v4 0.93 -0.11 -0.17 0.90 0.100 1.1\n",
       "v5 0.09  0.71 -0.39 0.66 0.344 1.6\n",
       "v6 0.32  0.36  0.61 0.60 0.399 2.2\n",
       "v7 0.49 -0.02  0.08 0.25 0.748 1.1\n",
       "\n",
       "                       PC1  PC2  PC3\n",
       "SS loadings           2.10 1.35 1.15\n",
       "Proportion Var        0.30 0.19 0.16\n",
       "Cumulative Var        0.30 0.49 0.66\n",
       "Proportion Explained  0.46 0.29 0.25\n",
       "Cumulative Proportion 0.46 0.75 1.00\n",
       "\n",
       "Mean item complexity =  1.4\n",
       "Test of the hypothesis that 3 components are sufficient.\n",
       "\n",
       "The root mean square of the residuals (RMSR) is  0.13 \n",
       " with the empirical chi square  1072.99  with prob <  2.6e-232 \n",
       "\n",
       "Fit based upon off diagonal values = 0.71"
      ]
     },
     "metadata": {},
     "output_type": "display_data"
    }
   ],
   "source": [
    "ACP_base<-principal(base_e, nfactors=3,\n",
    "                n.obs=1000,rotate=\"none\", scores=TRUE)\n",
    "ACP_base"
   ]
  },
  {
   "cell_type": "markdown",
   "metadata": {},
   "source": [
    "### Análise do ACP (com rotação)"
   ]
  },
  {
   "cell_type": "code",
   "execution_count": 13,
   "metadata": {},
   "outputs": [
    {
     "data": {
      "text/plain": [
       "Principal Components Analysis\n",
       "Call: principal(r = base_e, nfactors = 3, rotate = \"varimax\", n.obs = 1000, \n",
       "    scores = TRUE)\n",
       "Standardized loadings (pattern matrix) based upon correlation matrix\n",
       "     RC1   RC2   RC3   h2    u2 com\n",
       "v1 -0.05  0.80  0.05 0.65 0.347 1.0\n",
       "v2  0.95  0.00 -0.01 0.91 0.094 1.0\n",
       "v3 -0.01  0.01  0.79 0.63 0.369 1.0\n",
       "v4  0.95  0.04  0.01 0.90 0.100 1.0\n",
       "v5  0.04  0.81  0.00 0.66 0.344 1.0\n",
       "v6  0.16  0.05  0.76 0.60 0.399 1.1\n",
       "v7  0.47 -0.03  0.17 0.25 0.748 1.3\n",
       "\n",
       "                       RC1  RC2  RC3\n",
       "SS loadings           2.06 1.31 1.24\n",
       "Proportion Var        0.29 0.19 0.18\n",
       "Cumulative Var        0.29 0.48 0.66\n",
       "Proportion Explained  0.45 0.28 0.27\n",
       "Cumulative Proportion 0.45 0.73 1.00\n",
       "\n",
       "Mean item complexity =  1.1\n",
       "Test of the hypothesis that 3 components are sufficient.\n",
       "\n",
       "The root mean square of the residuals (RMSR) is  0.13 \n",
       " with the empirical chi square  1072.99  with prob <  2.6e-232 \n",
       "\n",
       "Fit based upon off diagonal values = 0.71"
      ]
     },
     "metadata": {},
     "output_type": "display_data"
    }
   ],
   "source": [
    "ACP_base_rotacao<-principal(base_e, nfactors=3,\n",
    "                n.obs=1000,rotate=\"varimax\", scores=TRUE)\n",
    "ACP_base_rotacao"
   ]
  },
  {
   "cell_type": "markdown",
   "metadata": {},
   "source": [
    "### Autovalores"
   ]
  },
  {
   "cell_type": "code",
   "execution_count": 14,
   "metadata": {},
   "outputs": [
    {
     "data": {
      "text/html": [
       "<ol class=list-inline>\n",
       "\t<li>2.09923586672126</li>\n",
       "\t<li>1.34711246307887</li>\n",
       "\t<li>1.15274097900125</li>\n",
       "\t<li>0.873878997705144</li>\n",
       "\t<li>0.739437965317608</li>\n",
       "\t<li>0.688427473140737</li>\n",
       "\t<li>0.099166255035128</li>\n",
       "</ol>\n"
      ],
      "text/latex": [
       "\\begin{enumerate*}\n",
       "\\item 2.09923586672126\n",
       "\\item 1.34711246307887\n",
       "\\item 1.15274097900125\n",
       "\\item 0.873878997705144\n",
       "\\item 0.739437965317608\n",
       "\\item 0.688427473140737\n",
       "\\item 0.099166255035128\n",
       "\\end{enumerate*}\n"
      ],
      "text/markdown": [
       "1. 2.09923586672126\n",
       "2. 1.34711246307887\n",
       "3. 1.15274097900125\n",
       "4. 0.873878997705144\n",
       "5. 0.739437965317608\n",
       "6. 0.688427473140737\n",
       "7. 0.099166255035128\n",
       "\n",
       "\n"
      ],
      "text/plain": [
       "[1] 2.09923587 1.34711246 1.15274098 0.87387900 0.73943797 0.68842747 0.09916626"
      ]
     },
     "metadata": {},
     "output_type": "display_data"
    }
   ],
   "source": [
    "ACP_base_rotacao$values"
   ]
  },
  {
   "cell_type": "code",
   "execution_count": 15,
   "metadata": {},
   "outputs": [
    {
     "data": {
      "text/plain": [
       "\n",
       "Loadings:\n",
       "   RC1    RC2    RC3   \n",
       "v1         0.805       \n",
       "v2  0.952              \n",
       "v3                0.794\n",
       "v4  0.948              \n",
       "v5         0.809       \n",
       "v6  0.161         0.757\n",
       "v7  0.471         0.172\n",
       "\n",
       "                 RC1   RC2   RC3\n",
       "SS loadings    2.056 1.306 1.237\n",
       "Proportion Var 0.294 0.187 0.177\n",
       "Cumulative Var 0.294 0.480 0.657"
      ]
     },
     "metadata": {},
     "output_type": "display_data"
    }
   ],
   "source": [
    "ACP_base_rotacao$loadings"
   ]
  },
  {
   "cell_type": "code",
   "execution_count": 16,
   "metadata": {},
   "outputs": [
    {
     "data": {
      "text/plain": [
       "Principal Components Analysis\n",
       "Call: principal(r = base_e, nfactors = 3, rotate = \"varimax\", n.obs = 1000, \n",
       "    scores = TRUE)\n",
       "Standardized loadings (pattern matrix) based upon correlation matrix\n",
       "     RC1   RC2   RC3   h2    u2 com\n",
       "v1 -0.05  0.80  0.05 0.65 0.347 1.0\n",
       "v2  0.95  0.00 -0.01 0.91 0.094 1.0\n",
       "v3 -0.01  0.01  0.79 0.63 0.369 1.0\n",
       "v4  0.95  0.04  0.01 0.90 0.100 1.0\n",
       "v5  0.04  0.81  0.00 0.66 0.344 1.0\n",
       "v6  0.16  0.05  0.76 0.60 0.399 1.1\n",
       "v7  0.47 -0.03  0.17 0.25 0.748 1.3\n",
       "\n",
       "                       RC1  RC2  RC3\n",
       "SS loadings           2.06 1.31 1.24\n",
       "Proportion Var        0.29 0.19 0.18\n",
       "Cumulative Var        0.29 0.48 0.66\n",
       "Proportion Explained  0.45 0.28 0.27\n",
       "Cumulative Proportion 0.45 0.73 1.00\n",
       "\n",
       "Mean item complexity =  1.1\n",
       "Test of the hypothesis that 3 components are sufficient.\n",
       "\n",
       "The root mean square of the residuals (RMSR) is  0.13 \n",
       " with the empirical chi square  1072.99  with prob <  2.6e-232 \n",
       "\n",
       "Fit based upon off diagonal values = 0.71"
      ]
     },
     "metadata": {},
     "output_type": "display_data"
    }
   ],
   "source": [
    "ACP_base_rotacao"
   ]
  },
  {
   "cell_type": "markdown",
   "metadata": {},
   "source": [
    "O Fator 1 tem altos coeficientes para: \n",
    "- v2: Unidades vendidas\n",
    "- v4: Quantidade de avaliações\n",
    "- v7: Quantidade de avaliações do vendedor\n",
    "\n",
    "O Fator 2 tem altos coeficientes para:\n",
    "- v1: Preço do produto\n",
    "- v5: Preço do varejo\n",
    "\n",
    "O Fator 3 tem altos coeficientes para:\n",
    "- v3: Média da nota do produto\n",
    "- v6: Média de nota do vendedor\n",
    "\n",
    "Com isso podemos dividir nossos fatores em:\n",
    "\n",
    "- **Fator 1: Número de vendas (quantidade)**\n",
    "- **Fator 2: Preço**\n",
    "- **Fator 3: Qualidade das vendas**"
   ]
  },
  {
   "cell_type": "code",
   "execution_count": null,
   "metadata": {},
   "outputs": [],
   "source": [
    "factor.scores(base_e,ACP_base_rotacao, \n",
    "              Phi = NULL, \n",
    "              method = c(\"Thurstone\", \"tenBerge\", \"Anderson\",\n",
    "                         \"Bartlett\", \"Harman\",\"components\"),\n",
    "              rho=NULL)"
   ]
  }
 ],
 "metadata": {
  "kernelspec": {
   "display_name": "R",
   "language": "R",
   "name": "ir"
  },
  "language_info": {
   "codemirror_mode": "r",
   "file_extension": ".r",
   "mimetype": "text/x-r-source",
   "name": "R",
   "pygments_lexer": "r",
   "version": "3.6.1"
  }
 },
 "nbformat": 4,
 "nbformat_minor": 4
}
