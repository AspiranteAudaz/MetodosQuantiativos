{
 "cells": [
  {
   "cell_type": "markdown",
   "metadata": {},
   "source": [
    "## Referencias\n",
    "\n",
    "* https://www.ufrgs.br/wiki-r/index.php?title=Data_Frame"
   ]
  },
  {
   "cell_type": "code",
   "execution_count": 1,
   "metadata": {},
   "outputs": [],
   "source": [
    "# Adicionando o diretorio atual\n",
    "setwd(\"/home/cipher/Desktop/EACH/MQA/MetodosQuantitativos\");\n",
    "\n",
    "dataset <- read.csv(file=\"./summer-products-with-rating-and-performance_2020-08.csv\", header=TRUE, sep=\",\")\n",
    "dataset <- as.data.frame(dataset)"
   ]
  }
 ],
 "metadata": {
  "kernelspec": {
   "display_name": "Python 3",
   "language": "python",
   "name": "python3"
  },
  "language_info": {
   "codemirror_mode": {
    "name": "ipython",
    "version": 3
   },
   "file_extension": ".py",
   "mimetype": "text/x-python",
   "name": "python",
   "nbconvert_exporter": "python",
   "pygments_lexer": "ipython3",
   "version": "3.7.6"
  }
 },
 "nbformat": 4,
 "nbformat_minor": 4
}
