{
 "cells": [
  {
   "cell_type": "markdown",
   "metadata": {},
   "source": [
    "## Referencias\n",
    "\n",
    "* https://www.ufrgs.br/wiki-r/index.php?title=Data_Frame"
   ]
  },
  {
   "cell_type": "code",
   "execution_count": 1,
   "metadata": {},
   "outputs": [
    {
     "name": "stderr",
     "output_type": "stream",
     "text": [
      "\n",
      "Attaching package: 'dplyr'\n",
      "\n",
      "The following objects are masked from 'package:stats':\n",
      "\n",
      "    filter, lag\n",
      "\n",
      "The following objects are masked from 'package:base':\n",
      "\n",
      "    intersect, setdiff, setequal, union\n",
      "\n"
     ]
    }
   ],
   "source": [
    "library(dplyr)"
   ]
  },
  {
   "cell_type": "code",
   "execution_count": 2,
   "metadata": {},
   "outputs": [],
   "source": [
    "# Adicionando o diretorio atual\n",
    "setwd(\"../\");"
   ]
  },
  {
   "cell_type": "code",
   "execution_count": 3,
   "metadata": {},
   "outputs": [],
   "source": [
    "dataset <- read.csv(file=\"./summer-products-with-rating-and-performance_2020-08.csv\", header=TRUE, sep=\",\")\n",
    "dataset <- as.data.frame(dataset)"
   ]
  },
  {
   "cell_type": "code",
   "execution_count": 4,
   "metadata": {},
   "outputs": [],
   "source": [
    "base <- select(dataset, price, units_sold, rating, rating_count, retail_price)"
   ]
  },
  {
   "cell_type": "code",
   "execution_count": 5,
   "metadata": {},
   "outputs": [
    {
     "data": {
      "text/html": [
       "<table>\n",
       "<thead><tr><th></th><th scope=col>price</th><th scope=col>units_sold</th><th scope=col>rating</th><th scope=col>rating_count</th><th scope=col>retail_price</th></tr></thead>\n",
       "<tbody>\n",
       "\t<tr><th scope=row>price</th><td> 1.000000000</td><td>-0.02481474 </td><td>0.05346852  </td><td>-0.001910505</td><td>0.30474760  </td></tr>\n",
       "\t<tr><th scope=row>units_sold</th><td>-0.024814738</td><td> 1.00000000 </td><td>0.03947825  </td><td> 0.899463652</td><td>0.01263839  </td></tr>\n",
       "\t<tr><th scope=row>rating</th><td> 0.053468521</td><td> 0.03947825 </td><td>1.00000000  </td><td> 0.054112293</td><td>0.02410629  </td></tr>\n",
       "\t<tr><th scope=row>rating_count</th><td>-0.001910505</td><td> 0.89946365 </td><td>0.05411229  </td><td> 1.000000000</td><td>0.05387161  </td></tr>\n",
       "\t<tr><th scope=row>retail_price</th><td> 0.304747605</td><td> 0.01263839 </td><td>0.02410629  </td><td> 0.053871605</td><td>1.00000000  </td></tr>\n",
       "</tbody>\n",
       "</table>\n"
      ],
      "text/latex": [
       "\\begin{tabular}{r|lllll}\n",
       "  & price & units\\_sold & rating & rating\\_count & retail\\_price\\\\\n",
       "\\hline\n",
       "\tprice &  1.000000000 & -0.02481474  & 0.05346852   & -0.001910505 & 0.30474760  \\\\\n",
       "\tunits\\_sold & -0.024814738 &  1.00000000  & 0.03947825   &  0.899463652 & 0.01263839  \\\\\n",
       "\trating &  0.053468521 &  0.03947825  & 1.00000000   &  0.054112293 & 0.02410629  \\\\\n",
       "\trating\\_count & -0.001910505 &  0.89946365  & 0.05411229   &  1.000000000 & 0.05387161  \\\\\n",
       "\tretail\\_price &  0.304747605 &  0.01263839  & 0.02410629   &  0.053871605 & 1.00000000  \\\\\n",
       "\\end{tabular}\n"
      ],
      "text/markdown": [
       "\n",
       "| <!--/--> | price | units_sold | rating | rating_count | retail_price |\n",
       "|---|---|---|---|---|---|\n",
       "| price |  1.000000000 | -0.02481474  | 0.05346852   | -0.001910505 | 0.30474760   |\n",
       "| units_sold | -0.024814738 |  1.00000000  | 0.03947825   |  0.899463652 | 0.01263839   |\n",
       "| rating |  0.053468521 |  0.03947825  | 1.00000000   |  0.054112293 | 0.02410629   |\n",
       "| rating_count | -0.001910505 |  0.89946365  | 0.05411229   |  1.000000000 | 0.05387161   |\n",
       "| retail_price |  0.304747605 |  0.01263839  | 0.02410629   |  0.053871605 | 1.00000000   |\n",
       "\n"
      ],
      "text/plain": [
       "             price        units_sold  rating     rating_count retail_price\n",
       "price         1.000000000 -0.02481474 0.05346852 -0.001910505 0.30474760  \n",
       "units_sold   -0.024814738  1.00000000 0.03947825  0.899463652 0.01263839  \n",
       "rating        0.053468521  0.03947825 1.00000000  0.054112293 0.02410629  \n",
       "rating_count -0.001910505  0.89946365 0.05411229  1.000000000 0.05387161  \n",
       "retail_price  0.304747605  0.01263839 0.02410629  0.053871605 1.00000000  "
      ]
     },
     "metadata": {},
     "output_type": "display_data"
    }
   ],
   "source": [
    "cor(base)"
   ]
  },
  {
   "cell_type": "code",
   "execution_count": 6,
   "metadata": {},
   "outputs": [
    {
     "data": {
      "text/plain": [
       "\n",
       "Call:\n",
       "lm(formula = base$units_sold ~ base$price)\n",
       "\n",
       "Residuals:\n",
       "   Min     1Q Median     3Q    Max \n",
       " -4722  -4258  -3417    701  95642 \n",
       "\n",
       "Coefficients:\n",
       "            Estimate Std. Error t value Pr(>|t|)    \n",
       "(Intercept)  4830.60     552.56   8.742   <2e-16 ***\n",
       "base$price    -59.05      60.02  -0.984    0.325    \n",
       "---\n",
       "Signif. codes:  0 '***' 0.001 '**' 0.01 '*' 0.05 '.' 0.1 ' ' 1\n",
       "\n",
       "Residual standard error: 9357 on 1571 degrees of freedom\n",
       "Multiple R-squared:  0.0006158,\tAdjusted R-squared:  -2.037e-05 \n",
       "F-statistic: 0.968 on 1 and 1571 DF,  p-value: 0.3253\n"
      ]
     },
     "metadata": {},
     "output_type": "display_data"
    }
   ],
   "source": [
    "modelo1var <- lm(base$units_sold ~ base$price)\n",
    "summary(modelo1var)"
   ]
  },
  {
   "cell_type": "code",
   "execution_count": 7,
   "metadata": {},
   "outputs": [
    {
     "data": {
      "text/html": [
       "<table>\n",
       "<thead><tr><th></th><th scope=col>Df</th><th scope=col>Sum Sq</th><th scope=col>Mean Sq</th><th scope=col>F value</th><th scope=col>Pr(&gt;F)</th></tr></thead>\n",
       "<tbody>\n",
       "\t<tr><th scope=row>base$price</th><td>   1        </td><td>    84742724</td><td>84742724    </td><td>0.9679726   </td><td>0.3253378   </td></tr>\n",
       "\t<tr><th scope=row>Residuals</th><td>1571        </td><td>137535726438</td><td>87546611    </td><td>       NA   </td><td>       NA   </td></tr>\n",
       "</tbody>\n",
       "</table>\n"
      ],
      "text/latex": [
       "\\begin{tabular}{r|lllll}\n",
       "  & Df & Sum Sq & Mean Sq & F value & Pr(>F)\\\\\n",
       "\\hline\n",
       "\tbase\\$price &    1         &     84742724 & 84742724     & 0.9679726    & 0.3253378   \\\\\n",
       "\tResiduals & 1571         & 137535726438 & 87546611     &        NA    &        NA   \\\\\n",
       "\\end{tabular}\n"
      ],
      "text/markdown": [
       "\n",
       "| <!--/--> | Df | Sum Sq | Mean Sq | F value | Pr(>F) |\n",
       "|---|---|---|---|---|---|\n",
       "| base$price |    1         |     84742724 | 84742724     | 0.9679726    | 0.3253378    |\n",
       "| Residuals | 1571         | 137535726438 | 87546611     |        NA    |        NA    |\n",
       "\n"
      ],
      "text/plain": [
       "           Df   Sum Sq       Mean Sq  F value   Pr(>F)   \n",
       "base$price    1     84742724 84742724 0.9679726 0.3253378\n",
       "Residuals  1571 137535726438 87546611        NA        NA"
      ]
     },
     "metadata": {},
     "output_type": "display_data"
    }
   ],
   "source": [
    "anova(modelo1var)"
   ]
  },
  {
   "cell_type": "code",
   "execution_count": 8,
   "metadata": {},
   "outputs": [
    {
     "data": {
      "image/png": "[encoded data removed]",
      "text/plain": [
       "plot without title"
      ]
     },
     "metadata": {},
     "output_type": "display_data"
    }
   ],
   "source": [
    "plot(x=base$units_sold, y=base$price, xlab=\"Qtd de itens vendidos\", ylab=\"Preço\")"
   ]
  },
  {
   "cell_type": "code",
   "execution_count": 9,
   "metadata": {},
   "outputs": [
    {
     "data": {
      "text/plain": [
       "\n",
       "Call:\n",
       "lm(formula = base$units_sold ~ base$price + base$rating)\n",
       "\n",
       "Residuals:\n",
       "   Min     1Q Median     3Q    Max \n",
       " -5574  -4102  -3376    744  95706 \n",
       "\n",
       "Coefficients:\n",
       "            Estimate Std. Error t value Pr(>|t|)\n",
       "(Intercept)  2035.28    1810.73   1.124    0.261\n",
       "base$price    -64.25      60.07  -1.070    0.285\n",
       "base$rating   742.93     458.32   1.621    0.105\n",
       "\n",
       "Residual standard error: 9352 on 1570 degrees of freedom\n",
       "Multiple R-squared:  0.002286,\tAdjusted R-squared:  0.001015 \n",
       "F-statistic: 1.798 on 2 and 1570 DF,  p-value: 0.1659\n"
      ]
     },
     "metadata": {},
     "output_type": "display_data"
    }
   ],
   "source": [
    "modelo2var <- lm(base$units_sold ~ base$price + base$rating)\n",
    "summary(modelo2var)"
   ]
  }
 ],
 "metadata": {
  "kernelspec": {
   "display_name": "R",
   "language": "R",
   "name": "ir"
  },
  "language_info": {
   "codemirror_mode": "r",
   "file_extension": ".r",
   "mimetype": "text/x-r-source",
   "name": "R",
   "pygments_lexer": "r",
   "version": "3.6.1"
  }
 },
 "nbformat": 4,
 "nbformat_minor": 4
}
