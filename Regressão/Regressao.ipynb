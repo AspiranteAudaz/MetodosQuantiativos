{
 "cells": [
  {
   "cell_type": "markdown",
   "metadata": {},
   "source": [
    "## Referencias\n",
    "\n",
    "* https://www.ufrgs.br/wiki-r/index.php?title=Data_Frame"
   ]
  },
  {
   "cell_type": "code",
   "execution_count": 1,
   "metadata": {},
   "outputs": [],
   "source": [
    "# Adicionando o diretorio atual\n",
    "setwd(\"/home/cipher/Desktop/EACH/MQA/MetodosQuantitativos\");\n",
    "\n",
    "dataset <- read.csv(file=\"./summer-products-with-rating-and-performance_2020-08.csv\", header=TRUE, sep=\",\")\n",
    "dataset <- as.data.frame(dataset)"
   ]
  }
 ],
 "metadata": {
  "kernelspec": {
   "display_name": "R",
   "language": "R",
   "name": "ir"
  },
  "language_info": {
   "codemirror_mode": "r",
   "file_extension": ".r",
   "mimetype": "text/x-r-source",
   "name": "R",
   "pygments_lexer": "r",
   "version": "3.6.3"
  }
 },
 "nbformat": 4,
 "nbformat_minor": 4
}
